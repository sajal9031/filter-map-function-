{
 "cells": [
  {
   "cell_type": "markdown",
   "id": "6eb48a0c-1ed1-435a-b301-6979a1922140",
   "metadata": {},
   "source": [
    "1.) You are writing code for a company. \n",
    "The requirement of the company is that you create a python\n",
    "function that will check whether the password entered by the user is correct or not.The function should\n",
    "take the password as input and return the string “Valid Password” if the entered password follows the\n",
    "below-given password guidelines else it should return “Invalid Password”.\n",
    "\n",
    "Note: \n",
    "1. The Password should contain at least two uppercase letters and at least two lowercase letters.\n",
    "2. The Password should contain at least a number and three special characters.\n",
    "3. The length of the password should be 10 characters long."
   ]
  },
  {
   "cell_type": "code",
   "execution_count": 39,
   "id": "40325c9f-8805-4142-8ffd-7a948af58120",
   "metadata": {},
   "outputs": [],
   "source": [
    "import re\n",
    "\n",
    "def check_password(password):\n",
    "    if len(password) != 10:\n",
    "        return \"Invalid Password\"\n",
    "    if len(re.findall(\"[A-Z]\", password)) < 2:\n",
    "        return \"Invalid Password\"\n",
    "    if len(re.findall(\"[a-z]\", password)) < 2:\n",
    "        return \"Invalid Password\"\n",
    "    if len(re.findall(\"\\d\", password)) < 1:\n",
    "        return \"Invalid Password\"\n",
    "    if len(re.findall(\"[!@#$%^&*()_+]\", password)) < 3:\n",
    "        return \"Invalid Password\"\n",
    "    return \"Valid Password\""
   ]
  },
  {
   "cell_type": "code",
   "execution_count": 40,
   "id": "885878cc-64c4-49a6-8594-d33c308808ec",
   "metadata": {},
   "outputs": [
    {
     "name": "stdout",
     "output_type": "stream",
     "text": [
      "Valid Password\n",
      "Invalid Password\n"
     ]
    }
   ],
   "source": [
    "password1 = \"SajaL12@*#\"\n",
    "password2 = \"Abcdefg123\"\n",
    "print(check_password(password1))\n",
    "print(check_password(password2)) "
   ]
  },
  {
   "cell_type": "code",
   "execution_count": null,
   "id": "4bb9be71-3829-45a3-844d-4c818ecb4b58",
   "metadata": {},
   "outputs": [],
   "source": []
  },
  {
   "cell_type": "code",
   "execution_count": null,
   "id": "f07a2699-62ad-43ea-9e68-70453bf9f603",
   "metadata": {},
   "outputs": [],
   "source": []
  },
  {
   "cell_type": "markdown",
   "id": "3e85c277-022c-4f63-a309-c6c9d88e44c9",
   "metadata": {},
   "source": [
    "2.1) Check if the string starts with a particular letterY"
   ]
  },
  {
   "cell_type": "code",
   "execution_count": 41,
   "id": "817bdb2a-dc5b-48ae-bbea-5b93711abbe1",
   "metadata": {},
   "outputs": [
    {
     "name": "stdout",
     "output_type": "stream",
     "text": [
      "The string starts with 'S'.\n"
     ]
    }
   ],
   "source": [
    "string = \"Sajal\"\n",
    "if string[0] == \"S\":\n",
    "    print(\"The string starts with 'S'.\")\n",
    "else:\n",
    "    print(\"The string does not start with 'S'.\")"
   ]
  },
  {
   "cell_type": "code",
   "execution_count": null,
   "id": "eb4c41af-d040-4b9d-b5b9-b994be067fc7",
   "metadata": {},
   "outputs": [],
   "source": []
  },
  {
   "cell_type": "markdown",
   "id": "f2f727f4-6562-41d9-a95d-b5532e491c82",
   "metadata": {},
   "source": [
    "2.2)  Check if the string is numeric"
   ]
  },
  {
   "cell_type": "code",
   "execution_count": 42,
   "id": "88a0a7c9-41fc-45e8-a494-c179331ba206",
   "metadata": {},
   "outputs": [
    {
     "name": "stdout",
     "output_type": "stream",
     "text": [
      "The string is numeric.\n"
     ]
    }
   ],
   "source": [
    "string = \"91\"\n",
    "if string.isdigit():\n",
    "    print(\"The string is numeric.\")\n",
    "else:\n",
    "    print(\"The string is not numeric.\")"
   ]
  },
  {
   "cell_type": "code",
   "execution_count": null,
   "id": "3e8de6b0-2280-411a-b2f4-c7e1f8381b06",
   "metadata": {},
   "outputs": [],
   "source": []
  },
  {
   "cell_type": "markdown",
   "id": "35cd5e60-4ddd-42ad-9fac-4496fae10a63",
   "metadata": {},
   "source": [
    "2.3) Sort a list of tuples having fruit names and their quantity.\n",
    "\n",
    "[(\"mango\",99),(\"orange\",80), (\"grapes\", 1000)]"
   ]
  },
  {
   "cell_type": "code",
   "execution_count": null,
   "id": "9528b391-9826-4610-9298-d07125c24687",
   "metadata": {},
   "outputs": [],
   "source": []
  },
  {
   "cell_type": "code",
   "execution_count": 43,
   "id": "f542b6d6-82af-4c86-97d7-818c7b63626f",
   "metadata": {},
   "outputs": [],
   "source": [
    "t1=[(\"mango\",99),(\"orange\",80), (\"grapes\", 1000)]"
   ]
  },
  {
   "cell_type": "code",
   "execution_count": 44,
   "id": "0493284c-55c4-45dc-ab32-5f7ebb126df8",
   "metadata": {},
   "outputs": [
    {
     "data": {
      "text/plain": [
       "[('mango', 99), ('orange', 80), ('grapes', 1000)]"
      ]
     },
     "execution_count": 44,
     "metadata": {},
     "output_type": "execute_result"
    }
   ],
   "source": [
    "t1"
   ]
  },
  {
   "cell_type": "code",
   "execution_count": null,
   "id": "71b126fb-209c-49e6-93a2-68da798dd8ce",
   "metadata": {},
   "outputs": [],
   "source": []
  },
  {
   "cell_type": "code",
   "execution_count": 45,
   "id": "3a0484ab-db26-4625-885a-49ae8f960620",
   "metadata": {},
   "outputs": [
    {
     "name": "stdout",
     "output_type": "stream",
     "text": [
      "[('orange', 80), ('mango', 99), ('grapes', 1000)]\n"
     ]
    }
   ],
   "source": [
    "fruits = [(\"mango\",99),(\"orange\",80),(\"grapes\",1000)]\n",
    "\n",
    "sorted_fruits = sorted(fruits, key=lambda t: t[1])\n",
    "\n",
    "print(sorted_fruits)"
   ]
  },
  {
   "cell_type": "code",
   "execution_count": null,
   "id": "9433ae30-1a70-4649-83d9-aac150854c3f",
   "metadata": {},
   "outputs": [],
   "source": []
  },
  {
   "cell_type": "markdown",
   "id": "e77974cd-39b6-4234-8ef4-8597fd72b23e",
   "metadata": {},
   "source": [
    "2.4)  Find the squares of numbers from 1 to 10"
   ]
  },
  {
   "cell_type": "code",
   "execution_count": 4,
   "id": "2bb32546-4233-4848-99ce-e7f3753f0c2b",
   "metadata": {},
   "outputs": [
    {
     "name": "stdout",
     "output_type": "stream",
     "text": [
      "[1, 4, 9, 16, 25, 36, 49, 64, 81]\n"
     ]
    }
   ],
   "source": [
    "square=list(map(lambda x : x**2 ,(range(1,10))))\n",
    "print(square)"
   ]
  },
  {
   "cell_type": "code",
   "execution_count": null,
   "id": "62ea8f58-d2de-41c7-b6f3-e238577eb7b3",
   "metadata": {},
   "outputs": [],
   "source": []
  },
  {
   "cell_type": "markdown",
   "id": "645d7216-4d18-4aa2-b45d-d5678fe958ab",
   "metadata": {},
   "source": [
    "2.5)  Find the cube root of numbers from 1 to 10"
   ]
  },
  {
   "cell_type": "code",
   "execution_count": 46,
   "id": "7b93897b-a595-4d1c-b06b-f1de2b15a046",
   "metadata": {},
   "outputs": [
    {
     "name": "stdout",
     "output_type": "stream",
     "text": [
      "[1.0, 1.2599210498948732, 1.4422495703074083, 1.5874010519681994, 1.7099759466766968, 1.8171205928321397, 1.912931182772389, 2.0, 2.080083823051904]\n"
     ]
    }
   ],
   "source": [
    "square=list(map(lambda x : x**(1/3) ,(range(1,10))))\n",
    "print(square)"
   ]
  },
  {
   "cell_type": "code",
   "execution_count": null,
   "id": "82300231-55a9-424b-b1a0-8cc4d57f506d",
   "metadata": {},
   "outputs": [],
   "source": []
  },
  {
   "cell_type": "markdown",
   "id": "6fbaf918-3fc1-42ad-816a-36948f6d076f",
   "metadata": {},
   "source": [
    "2.6)  Check if a given number is even\n",
    "list"
   ]
  },
  {
   "cell_type": "code",
   "execution_count": 47,
   "id": "47c6561d-983d-44da-966a-72bfed68a8cd",
   "metadata": {},
   "outputs": [],
   "source": [
    "def is_even(number):\n",
    "    if number % 2 == 0:\n",
    "        return True\n",
    "    else:\n",
    "        return False"
   ]
  },
  {
   "cell_type": "code",
   "execution_count": 49,
   "id": "1e7b89d0-0150-4102-b2ea-0e7f5bd27d2e",
   "metadata": {},
   "outputs": [
    {
     "name": "stdout",
     "output_type": "stream",
     "text": [
      "True\n",
      "False\n"
     ]
    }
   ],
   "source": [
    "print(is_even(4))  \n",
    "print(is_even(5))"
   ]
  },
  {
   "cell_type": "code",
   "execution_count": null,
   "id": "72f31d28-e1cc-4a78-8dcd-f4388c2763b7",
   "metadata": {},
   "outputs": [],
   "source": []
  },
  {
   "cell_type": "markdown",
   "id": "93d4cc02-2a4f-4a24-ac73-beddf264a72a",
   "metadata": {},
   "source": [
    "2.7) Filter odd numbers from the given list\n",
    "\n",
    "[1,2,3,4,5,6,7,8,9,10]"
   ]
  },
  {
   "cell_type": "code",
   "execution_count": 50,
   "id": "a238d1ae-2052-4623-838d-a68eef679d41",
   "metadata": {},
   "outputs": [],
   "source": [
    "l1=[1,2,3,4,5,6,7,8,9,10]"
   ]
  },
  {
   "cell_type": "code",
   "execution_count": 7,
   "id": "d5cdef63-580d-4df9-a064-f0f43f598d7a",
   "metadata": {},
   "outputs": [
    {
     "data": {
      "text/plain": [
       "[1, 2, 3, 4, 5, 6, 7, 8, 9, 10]"
      ]
     },
     "execution_count": 7,
     "metadata": {},
     "output_type": "execute_result"
    }
   ],
   "source": [
    "l1"
   ]
  },
  {
   "cell_type": "code",
   "execution_count": 18,
   "id": "f1636d12-2e2c-4ea5-8043-e71e3d47269b",
   "metadata": {},
   "outputs": [
    {
     "data": {
      "text/plain": [
       "[1, 3, 5, 7, 9]"
      ]
     },
     "execution_count": 18,
     "metadata": {},
     "output_type": "execute_result"
    }
   ],
   "source": [
    "list(filter(lambda x: x % 2 != 0, l1))"
   ]
  },
  {
   "cell_type": "code",
   "execution_count": null,
   "id": "6acdd012-9e97-42c6-92c6-a4087d77de3e",
   "metadata": {},
   "outputs": [],
   "source": []
  },
  {
   "cell_type": "code",
   "execution_count": null,
   "id": "2751ad5c-3ce2-4379-ad05-2ea176b152c1",
   "metadata": {},
   "outputs": [],
   "source": []
  },
  {
   "cell_type": "markdown",
   "id": "1464d3fc-7206-4787-a021-2d29f6963ec3",
   "metadata": {},
   "source": [
    "2.8)  Sort a list of integers into positive and negative integers lists.\n",
    "\n",
    "[1,2,3,4,5,6,-1,-2,-3,-4,-5,0]"
   ]
  },
  {
   "cell_type": "code",
   "execution_count": 22,
   "id": "00170236-8823-4616-9fed-b65cdd3b9a5d",
   "metadata": {},
   "outputs": [
    {
     "name": "stdout",
     "output_type": "stream",
     "text": [
      "Positive numbers: [1, 2, 3, 4, 5, 6]\n",
      "Negative numbers: [-1, -2, -3, -4, -5]\n"
     ]
    }
   ],
   "source": [
    "## Using List Comprehension\n",
    "numbers = [1, 2, 3, 4, 5, 6, -1, -2, -3, -4, -5, 0]\n",
    "\n",
    "positive_numbers = [n for n in numbers if n > 0]\n",
    "negative_numbers = [n for n in numbers if n < 0]\n",
    "\n",
    "print(\"Positive numbers:\", positive_numbers)\n",
    "print(\"Negative numbers:\", negative_numbers)"
   ]
  },
  {
   "cell_type": "code",
   "execution_count": null,
   "id": "afbc4569-f7a3-4a05-9836-7024ad8e785c",
   "metadata": {},
   "outputs": [],
   "source": []
  }
 ],
 "metadata": {
  "kernelspec": {
   "display_name": "Python 3 (ipykernel)",
   "language": "python",
   "name": "python3"
  },
  "language_info": {
   "codemirror_mode": {
    "name": "ipython",
    "version": 3
   },
   "file_extension": ".py",
   "mimetype": "text/x-python",
   "name": "python",
   "nbconvert_exporter": "python",
   "pygments_lexer": "ipython3",
   "version": "3.10.8"
  }
 },
 "nbformat": 4,
 "nbformat_minor": 5
}
